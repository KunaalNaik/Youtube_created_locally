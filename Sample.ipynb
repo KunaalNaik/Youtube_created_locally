{
 "cells": [
  {
   "cell_type": "code",
   "execution_count": 2,
   "id": "68eb6b3f-78da-464c-980b-14525d4cca6b",
   "metadata": {},
   "outputs": [],
   "source": [
    "import pandas as pd\n",
    "import random\n",
    "import csv"
   ]
  },
  {
   "cell_type": "code",
   "execution_count": 3,
   "id": "1b638d65-1d58-4f07-bdf7-88ae53f6e68c",
   "metadata": {},
   "outputs": [],
   "source": [
    "def generate_customer_data(num_rows):\n",
    "    first_names = ['John', 'Jane', 'Michael', 'Emily', 'William', 'Olivia', 'James', 'Emma', 'Benjamin', 'Sophia']\n",
    "    last_names = ['Smith', 'Johnson', 'Williams', 'Brown', 'Jones', 'Miller', 'Davis', 'Garcia', 'Rodriguez', 'Wilson']\n",
    "    genders = ['Male', 'Female']\n",
    "    ages = range(18, 65)\n",
    "    addresses = ['123 Main St', '456 Elm St', '789 Oak St', '10 Pine St', '111 Maple Ave']\n",
    "    cities = ['New York', 'Los Angeles', 'Chicago', 'Houston', 'Phoenix']\n",
    "    states = ['NY', 'CA', 'IL', 'TX', 'AZ']\n",
    "    zip_codes = ['10001', '90001', '60601', '77001', '85001']\n",
    "\n",
    "    data = []\n",
    "    for _ in range(num_rows):\n",
    "        first_name = random.choice(first_names)\n",
    "        last_name = random.choice(last_names)\n",
    "        gender = random.choice(genders)\n",
    "        age = random.choice(ages)\n",
    "        address = random.choice(addresses)\n",
    "        city = random.choice(cities)\n",
    "        state = random.choice(states)\n",
    "        zip_code = random.choice(zip_codes)\n",
    "        data.append([first_name, last_name, gender, str(age), address, city, state, zip_code])\n",
    "    \n",
    "    return data\n"
   ]
  },
  {
   "cell_type": "code",
   "execution_count": 4,
   "id": "8248053e-8d6f-4493-8c34-c2c97f28ffed",
   "metadata": {},
   "outputs": [
    {
     "name": "stdout",
     "output_type": "stream",
     "text": [
      "Data exported to customer_data.csv successfully!\n"
     ]
    }
   ],
   "source": [
    "# Generate 10 rows of customer data\n",
    "customer_data = generate_customer_data(10)\n",
    "\n",
    "# Export data as a CSV file\n",
    "filename = 'customer_data.csv'\n",
    "with open(filename, 'w', newline='') as file:\n",
    "    writer = csv.writer(file)\n",
    "    writer.writerow(['First Name', 'Last Name', 'Gender', 'Age', 'Address', 'City', 'State', 'ZIP Code'])\n",
    "    writer.writerows(customer_data)\n",
    "\n",
    "print(f\"Data exported to {filename} successfully!\")"
   ]
  },
  {
   "cell_type": "code",
   "execution_count": null,
   "id": "a672022c-537b-4bd8-adc8-c1510dd4115c",
   "metadata": {},
   "outputs": [],
   "source": []
  }
 ],
 "metadata": {
  "kernelspec": {
   "display_name": "Python 3 (ipykernel)",
   "language": "python",
   "name": "python3"
  },
  "language_info": {
   "codemirror_mode": {
    "name": "ipython",
    "version": 3
   },
   "file_extension": ".py",
   "mimetype": "text/x-python",
   "name": "python",
   "nbconvert_exporter": "python",
   "pygments_lexer": "ipython3",
   "version": "3.10.13"
  }
 },
 "nbformat": 4,
 "nbformat_minor": 5
}
